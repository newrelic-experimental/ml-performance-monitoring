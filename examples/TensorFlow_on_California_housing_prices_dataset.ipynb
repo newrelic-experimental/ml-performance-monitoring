{
  "cells": [
    {
      "cell_type": "markdown",
      "id": "36bcbf97",
      "metadata": {
        "id": "36bcbf97"
      },
      "source": [
        "# New Relic ML Performance Monitoring - Bring Your Own Data\n",
        "\n",
        "[ml-performance-monitoring](https://github.com/newrelic-experimental/ml-performance-monitoring) provides a Python library for sending machine learning models' inference data and performance metrics into New Relic.\n",
        "<br>\n",
        "By using this package, you can easily and quickly monitor your model, directly from a Jupyter notebook or a cloud service.\n",
        "<br>\n",
        "The package is ML framework agnostic and can be quickly integrated. It is based on the newrelic-telemetry-sdk-python library.\n",
        "<br>\n",
        "It is based on the [newrelic-telemetry-sdk-python](https://github.com/newrelic/newrelic-telemetry-sdk-python) library.\n",
        "\n",
        "\n",
        "This notebook provides an example of sending inference data and metrics of an XGBoost model\n",
        "\n",
        "<U>Note</U>- this notebook uses the libraries:\n",
        "* numpy\n",
        "* pandas\n",
        "* sklearn\n",
        "* tensorflow"
      ]
    },
    {
      "cell_type": "markdown",
      "id": "77eda1c8",
      "metadata": {
        "id": "77eda1c8"
      },
      "source": [
        "### 0. Install libraries"
      ]
    },
    {
      "cell_type": "code",
      "execution_count": null,
      "id": "e984c34f",
      "metadata": {
        "id": "e984c34f"
      },
      "outputs": [],
      "source": [
        "!pip3 install git+https://github.com/newrelic-experimental/ml-performance-monitoring.git"
      ]
    },
    {
      "cell_type": "code",
      "execution_count": null,
      "id": "41d4b494",
      "metadata": {
        "id": "41d4b494"
      },
      "outputs": [],
      "source": [
        "!pip3 install pandas scikit-learn tensorflow"
      ]
    },
    {
      "cell_type": "markdown",
      "id": "1e65b6a8",
      "metadata": {
        "id": "1e65b6a8"
      },
      "source": [
        "### 1. Import libraries"
      ]
    },
    {
      "cell_type": "code",
      "execution_count": null,
      "id": "e2275faa",
      "metadata": {
        "id": "e2275faa"
      },
      "outputs": [],
      "source": [
        "import numpy as np\n",
        "import pandas as pd\n",
        "import tensorflow as tf\n",
        "from sklearn.metrics import mean_squared_error\n",
        "\n",
        "from ml_performance_monitoring.monitor import MLPerformanceMonitoring"
      ]
    },
    {
      "cell_type": "markdown",
      "id": "5829e9a7",
      "metadata": {
        "id": "5829e9a7"
      },
      "source": [
        "### 2. Load the California housing prices dataset and split it into train and test sets"
      ]
    },
    {
      "cell_type": "code",
      "execution_count": null,
      "id": "06308232",
      "metadata": {
        "tags": [],
        "id": "06308232"
      },
      "outputs": [],
      "source": [
        "from sklearn.datasets import fetch_california_housing\n",
        "from sklearn.model_selection import train_test_split\n",
        "from sklearn.preprocessing import StandardScaler\n",
        "\n",
        "california_dataset = fetch_california_housing()\n",
        "X, y = (\n",
        "    california_dataset[\"data\"],\n",
        "    california_dataset[\"target\"],\n",
        ")\n",
        "\n",
        "scaler = StandardScaler()\n",
        "X = scaler.fit_transform(X)\n",
        "\n",
        "X_train, X_test, y_train, y_test = train_test_split(\n",
        "    X, y, test_size=0.2, random_state=123\n",
        ")"
      ]
    },
    {
      "cell_type": "code",
      "execution_count": null,
      "id": "f4f21208-2123-423b-a14c-78d6a88c3076",
      "metadata": {
        "id": "f4f21208-2123-423b-a14c-78d6a88c3076"
      },
      "outputs": [],
      "source": [
        "print(X_train[:5], y_train[:5])"
      ]
    },
    {
      "cell_type": "markdown",
      "id": "2e6a6dfd",
      "metadata": {
        "id": "2e6a6dfd"
      },
      "source": [
        "### 3. Fitting a Neural Network Regression Model with TensorFlow\n",
        "\n"
      ]
    },
    {
      "cell_type": "code",
      "execution_count": null,
      "id": "2107be0d",
      "metadata": {
        "id": "2107be0d"
      },
      "outputs": [],
      "source": [
        "model = tf.keras.models.Sequential([\n",
        "    tf.keras.layers.Input(shape=(X_train.shape[1],)),\n",
        "    tf.keras.layers.Dense(128, activation='relu'),\n",
        "    tf.keras.layers.Dense(64, activation='relu'),\n",
        "    tf.keras.layers.Dense(32, activation='relu'),\n",
        "    tf.keras.layers.Dense(1)\n",
        "])\n",
        "\n",
        "model.compile(optimizer=tf.keras.optimizers.Adam(learning_rate=0.1), loss='mse')\n",
        "\n",
        "model.fit(X_train, y_train, epochs=10, batch_size=32)"
      ]
    },
    {
      "cell_type": "markdown",
      "id": "4531cc2b",
      "metadata": {
        "id": "4531cc2b"
      },
      "source": [
        "### 4. Predicting the test set results"
      ]
    },
    {
      "cell_type": "code",
      "execution_count": null,
      "id": "f505f688",
      "metadata": {
        "id": "f505f688"
      },
      "outputs": [],
      "source": [
        "y_pred = model.predict(X_test)\n",
        "y_pred"
      ]
    },
    {
      "cell_type": "markdown",
      "id": "fddebfbb",
      "metadata": {
        "id": "fddebfbb"
      },
      "source": [
        "### 5. Record inference data to New Relic\n",
        "\n",
        "The MLPerformanceMonitoring parameters:\n",
        "   * Required parameters:\n",
        "      * `model_name` - must be unique per model\n",
        "      *  `insert_key` - [Get your key](https://one.newrelic.com/launcher/api-keys-ui.api-keys-launcher) (also referenced as `ingest - license`) and set it as environment variable: `NEW_RELIC_LICENSE_KEY`.\n",
        "[Click here](https://docs.newrelic.com/docs/apis/intro-apis/new-relic-api-keys/#license-key) for more details and instructions.\n",
        "\n",
        "* Optional parameters:\n",
        "   * `metadata` (dictionary) - will be added to each event (row) of the data\n",
        "   * `send_data_metrics` (boolean) - send data metrics (statistics) to New Relic (False as default)\n",
        "   * `features_columns`(list) - the features' names ordered as X columns.\n",
        "   * `labels_columns` (list) - the labels' names ordered as y columns.\n",
        "\n",
        "(note: The parameters `features_columns` and `labels_columns` are only relevant when sending the data as an np.array. When the data is sent as a dataframe, the dataframes (X,y) columns' names will be taken as features and labels names respectively. In addition, if you send your data as an np.array without sending the features_columns and labels_columns, on New Relic data, the names will appear as \"feature_{n}\" and \"lablel_{n}\" numbered by the features/labels order)\n"
      ]
    },
    {
      "cell_type": "markdown",
      "id": "cee39519",
      "metadata": {
        "id": "cee39519"
      },
      "source": [
        "5.1. Define monitoring parameters"
      ]
    },
    {
      "cell_type": "code",
      "execution_count": null,
      "id": "532ae6a0",
      "metadata": {
        "id": "532ae6a0"
      },
      "outputs": [],
      "source": [
        "metadata = {\"environment\": \"notebook\", \"dataset\": \"California housing prices\"}\n",
        "model_version = \"1.0\"\n",
        "features_columns, labels_columns = (\n",
        "    list(california_dataset[\"feature_names\"]),\n",
        "    [\"target\"],\n",
        ")"
      ]
    },
    {
      "cell_type": "code",
      "execution_count": null,
      "id": "54400202-8548-466d-bdd7-c435b604d16b",
      "metadata": {
        "id": "54400202-8548-466d-bdd7-c435b604d16b"
      },
      "outputs": [],
      "source": [
        "import getpass\n",
        "print(\"You can get your License-key here: https://one.newrelic.com/launcher/api-keys-ui.api-keys-launcher\")\n",
        "insert_key = getpass.getpass(\"Paste an License-key and hit enter:\")"
      ]
    },
    {
      "cell_type": "markdown",
      "id": "7534e68c",
      "metadata": {
        "id": "7534e68c"
      },
      "source": [
        "5.2 Create model monitor"
      ]
    },
    {
      "cell_type": "code",
      "execution_count": null,
      "id": "3aba1d3a",
      "metadata": {
        "id": "3aba1d3a"
      },
      "outputs": [],
      "source": [
        "ml_monitor = MLPerformanceMonitoring(\n",
        "    insert_key=insert_key,  # set the environment variable NEW_RELIC_LICENSE_KEY or send your license-key here\n",
        "    model_name=\"TensorFlow Regression on California housing Dataset\",\n",
        "    metadata=metadata,\n",
        "    send_data_metrics=True,\n",
        "    features_columns=features_columns,\n",
        "    labels_columns=labels_columns,\n",
        "    model_version=model_version,\n",
        ")"
      ]
    },
    {
      "cell_type": "markdown",
      "id": "3264a3a2",
      "metadata": {
        "id": "3264a3a2"
      },
      "source": [
        "5.3 Send your data as an np.array."
      ]
    },
    {
      "cell_type": "code",
      "execution_count": null,
      "id": "48f8ba42",
      "metadata": {
        "id": "48f8ba42"
      },
      "outputs": [],
      "source": [
        "ml_monitor.record_inference_data(X=X_test, y=y_pred)"
      ]
    },
    {
      "cell_type": "markdown",
      "id": "dea28209",
      "metadata": {
        "jupyter": {
          "outputs_hidden": true
        },
        "tags": [],
        "id": "dea28209"
      },
      "source": [
        "5.4  Send your data as a pd.DataFrame. The values have been transformed by the StandardScaler into z-scores."
      ]
    },
    {
      "cell_type": "code",
      "execution_count": null,
      "id": "49231f6b",
      "metadata": {
        "id": "49231f6b"
      },
      "outputs": [],
      "source": [
        "X_df = pd.DataFrame(\n",
        "    X_test,\n",
        "    columns=features_columns,\n",
        ")\n",
        "\n",
        "y_pred_df = pd.DataFrame(\n",
        "    y_pred,\n",
        "    columns=labels_columns,\n",
        ")\n",
        "X_df.head()"
      ]
    },
    {
      "cell_type": "code",
      "execution_count": null,
      "id": "00ef6592",
      "metadata": {
        "id": "00ef6592"
      },
      "outputs": [],
      "source": [
        "ml_monitor.record_inference_data(X=X_df, y=y_pred_df)"
      ]
    },
    {
      "cell_type": "code",
      "execution_count": null,
      "id": "c7e59ebc",
      "metadata": {
        "id": "c7e59ebc"
      },
      "outputs": [],
      "source": [
        "y_pred_df.head()"
      ]
    },
    {
      "cell_type": "markdown",
      "id": "45c5f850",
      "metadata": {
        "id": "45c5f850"
      },
      "source": [
        "### 6. Record metrics to New Relic\n",
        "You can stream custom metrics to New Relic, monitoring your model performance or model data. These metrics will be sent to NRDB as [metric data](https://docs.newrelic.com/docs/data-apis/ingest-apis/metric-api/introduction-metric-api/)."
      ]
    },
    {
      "cell_type": "code",
      "execution_count": null,
      "id": "c2f04d4b",
      "metadata": {
        "id": "c2f04d4b"
      },
      "outputs": [],
      "source": [
        "rmse = round(np.sqrt(mean_squared_error(y_test, y_pred)), 3)\n",
        "print(f\"RMSE: {rmse}\")"
      ]
    },
    {
      "cell_type": "code",
      "execution_count": null,
      "id": "1a50c4fc",
      "metadata": {
        "id": "1a50c4fc"
      },
      "outputs": [],
      "source": [
        "metrics = {\n",
        "    \"RMSE\": rmse,\n",
        "}\n",
        "ml_monitor.record_metrics(metrics=metrics)"
      ]
    },
    {
      "cell_type": "markdown",
      "id": "6bde8388",
      "metadata": {
        "id": "6bde8388"
      },
      "source": [
        "### 7. Monitor and alert\n",
        "Done! Check your application in the [New Relic UI](https://one.newrelic.com/nr1-core?filters=%28domain%20%3D%20%27MLOPS%27%20AND%20type%20%3D%20%27MACHINE_LEARNING_MODEL%27%29) to see the real time data."
      ]
    }
  ],
  "metadata": {
    "kernelspec": {
      "display_name": "Python 3 (ipykernel)",
      "language": "python",
      "name": "python3"
    },
    "language_info": {
      "codemirror_mode": {
        "name": "ipython",
        "version": 3
      },
      "file_extension": ".py",
      "mimetype": "text/x-python",
      "name": "python",
      "nbconvert_exporter": "python",
      "pygments_lexer": "ipython3",
      "version": "3.10.10"
    },
    "vscode": {
      "interpreter": {
        "hash": "31f2aee4e71d21fbe5cf8b01ff0e069b9275f58929596ceb00d14d90e3e16cd6"
      }
    },
    "colab": {
      "provenance": []
    }
  },
  "nbformat": 4,
  "nbformat_minor": 5
}